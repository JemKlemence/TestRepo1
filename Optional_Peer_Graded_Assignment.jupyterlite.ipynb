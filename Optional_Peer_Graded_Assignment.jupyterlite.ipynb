{
  "metadata": {
    "kernelspec": {
      "name": "python",
      "display_name": "Python (Pyodide)",
      "language": "python"
    },
    "language_info": {
      "codemirror_mode": {
        "name": "python",
        "version": 3
      },
      "file_extension": ".py",
      "mimetype": "text/x-python",
      "name": "python",
      "nbconvert_exporter": "python",
      "pygments_lexer": "ipython3",
      "version": "3.8"
    }
  },
  "nbformat_minor": 4,
  "nbformat": 4,
  "cells": [
    {
      "cell_type": "markdown",
      "source": "<p style=\"text-align:center\">\n    <a href=\"https://skills.network/?utm_medium=Exinfluencer&utm_source=Exinfluencer&utm_content=000026UJ&utm_term=10006555&utm_id=NA-SkillsNetwork-Channel-SkillsNetworkCoursesIBMDeveloperSkillsNetworkST0151ENSkillsNetwork20531532-2022-01-01\" target=\"_blank\">\n    <img src=\"https://cf-courses-data.s3.us.cloud-object-storage.appdomain.cloud/assets/logos/SN_web_lightmode.png\" width=\"200\" alt=\"Skills Network Logo\"  />\n    </a>\n</p>\n\n",
      "metadata": {}
    },
    {
      "cell_type": "markdown",
      "source": "#### Import the required libraries we need for the lab.\n",
      "metadata": {}
    },
    {
      "cell_type": "code",
      "source": "import piplite\nawait piplite.install(['numpy'],['pandas'])\nawait piplite.install(['seaborn'])",
      "metadata": {},
      "outputs": [],
      "execution_count": null
    },
    {
      "cell_type": "code",
      "source": "import pandas as pd\nimport pandas as pd\nimport seaborn as sns\nimport matplotlib.pyplot as pyplot\nimport scipy.stats\nimport statsmodels.api as sm\nfrom statsmodels.formula.api import ols",
      "metadata": {},
      "outputs": [],
      "execution_count": null
    },
    {
      "cell_type": "markdown",
      "source": "#### Read the dataset in the csv file from the URL\n",
      "metadata": {}
    },
    {
      "cell_type": "code",
      "source": "from js import fetch\nimport io\n\nURL = 'https://cf-courses-data.s3.us.cloud-object-storage.appdomain.cloud/IBMDeveloperSkillsNetwork-ST0151EN-SkillsNetwork/labs/boston_housing.csv'\nresp = await fetch(URL)\nboston_url = io.BytesIO((await resp.arrayBuffer()).to_py())",
      "metadata": {},
      "outputs": [],
      "execution_count": null
    },
    {
      "cell_type": "code",
      "source": "boston_df=pd.read_csv(boston_url)",
      "metadata": {},
      "outputs": [],
      "execution_count": null
    },
    {
      "cell_type": "markdown",
      "source": "#### Add your code below following the instructions given in the course to complete the peer graded assignment\n",
      "metadata": {}
    },
    {
      "cell_type": "code",
      "source": "# Discretize AGE into groups\nbins = [0, 35, 70, 100]\nlabels = ['<=35 years', '35-70 years', '>70 years']\nboston_df['AGE_GROUP'] = pd.cut(boston_df['AGE'], bins=bins, labels=labels)\n\n# --- Statistical Tests ---\n\n# T-test: CHAS vs MEDV\nmedv_chas1 = boston_df[boston_df['CHAS'] == 1]['MEDV']\nmedv_chas0 = boston_df[boston_df['CHAS'] == 0]['MEDV']\nt_stat, p_val_ttest = stats.ttest_ind(medv_chas1, medv_chas0)\n\n# ANOVA: MEDV vs AGE group\nmedv_age1 = boston_df[boston_df['AGE_GROUP'] == '<=35 years']['MEDV']\nmedv_age2 = boston_df[boston_df['AGE_GROUP'] == '35-70 years']['MEDV']\nmedv_age3 = boston_df[boston_df['AGE_GROUP'] == '>70 years']['MEDV']\nf_stat, p_val_anova = stats.f_oneway(medv_age1, medv_age2, medv_age3)\n\n# Pearson Correlation: NOX vs INDUS\ncorr_coef, p_val_corr = stats.pearsonr(boston_df['NOX'], boston_df['INDUS'])\n\n# Regression: DIS vs MEDV\nmodel = ols('MEDV ~ DIS', data=boston_df).fit()\ncoef_dis = model.params['DIS']\np_val_regression = model.pvalues['DIS']\n\n# --- Print Results ---\nprint(\"T-test (CHAS vs MEDV):\")\nprint(f\"  t-statistic = {t_stat:.4f}, p-value = {p_val_ttest:.6f}\\n\")\n\nprint(\"ANOVA (AGE group vs MEDV):\")\nprint(f\"  F-statistic = {f_stat:.4f}, p-value = {p_val_anova:.6e}\\n\")\n\nprint(\"Pearson Correlation (NOX vs INDUS):\")\nprint(f\"  Correlation Coefficient = {corr_coef:.4f}, p-value = {p_val_corr:.2e}\\n\")\n\nprint(\"Regression (DIS vs MEDV):\")\nprint(f\"  Coefficient of DIS = {coef_dis:.4f}, p-value = {p_val_regression:.2e}\")\n\n# --- Visualizations ---\npyplot.figure(figsize=(16, 14))\n\n# 1. Boxplot for T-test: CHAS vs MEDV\npyplot.subplot(2, 2, 1)\nsns.boxplot(x='CHAS', y='MEDV', data=boston_df, palette='Set2')\npyplot.title('Boxplot: MEDV by CHAS (Bounds Charles River)')\npyplot.xlabel('CHAS (1 = Bounds River, 0 = Not)')\npyplot.ylabel('MEDV ($1000s)')\n\n# 2. Boxplot for ANOVA: AGE group vs MEDV\npyplot.subplot(2, 2, 2)\nsns.boxplot(x='AGE_GROUP', y='MEDV', data=boston_df, palette='pastel')\npyplot.title('Boxplot: MEDV by Age Group')\npyplot.xlabel('Age Group of Houses')\npyplot.ylabel('MEDV ($1000s)')\n\n# 3. Scatterplot for Pearson Correlation: NOX vs INDUS\npyplot.subplot(2, 2, 3)\nsns.scatterplot(x='INDUS', y='NOX', data=boston_df, color='purple')\npyplot.title('Scatterplot: NOX vs INDUS')\npyplot.xlabel('Proportion of Non-Retail Business Acres (INDUS)')\npyplot.ylabel('Nitric Oxide Concentration (NOX)')\n\n# 4. Regression Plot: DIS vs MEDV\npyplot.subplot(2, 2, 4)\nsns.regplot(x='DIS', y='MEDV', data=boston_df, line_kws={\"color\": \"red\"})\npyplot.title('Regression: DIS vs MEDV')\npyplot.xlabel('Weighted Distance to Employment Centers (DIS)')\npyplot.ylabel('MEDV ($1000s)')\n\npyplot.tight_layout()\npyplot.show()",
      "metadata": {
        "trusted": true
      },
      "outputs": [],
      "execution_count": null
    },
    {
      "cell_type": "code",
      "source": "",
      "metadata": {
        "trusted": true
      },
      "outputs": [],
      "execution_count": null
    }
  ]
}